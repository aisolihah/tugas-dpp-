{
  "cells": [
    {
      "cell_type": "markdown",
      "metadata": {
        "id": "2MD-s3jru9e1"
      },
      "source": [
        "<h2>Pengertian</h2>\n",
        "<ol>\n",
        "    <li>Fungsi pada python adalah kumpulan perintah atau baris kode yang dikelompokkan menjadi satu kesatuan untuk kemudian bisa dipanggil atau digunakan berkali-kali.</li>\n",
        "    <li>Sebuah fungsi dapat menerima parameter, dapat mengembalikan suatu nilai, dan dapat dipanggil berkali-kali secara independen.</li>\n",
        "</ol>\n",
        "<hr>\n",
        "<h2>Keuntungan</h2>\n",
        "<ol>\n",
        "    <li>Membagi kode program menjadi bagian-bagian kecil dengan tugasnya masing-masing.</li>\n",
        "    <li>Membuat kode program menjadi lebih “reusable” dan lebih terstruktur.</li>\n",
        "</ol>\n",
        "<hr>\n",
        "<h2>Sintaks</h2>\n",
        "\n",
        "```python\n",
        "def function_name():\n",
        "    Logic Program\n",
        "```\n",
        "Cara memanggil fungsi dengan menuliskan function_name diikuti kurung buka tutup () beserta parameter jika ada\n",
        "\n",
        "```python\n",
        "    function_name()\n",
        "```\n",
        "<hr>\n",
        "Buatlah fungsi dengan nama \"helloPython\" yang berfungsi untuk mencetak \"Welcome in Python Language\" "
      ]
    },
    {
      "cell_type": "code",
      "execution_count": null,
      "metadata": {
        "id": "wlW5vpoMu9e5",
        "outputId": "9e28bd23-f2dd-4bf8-8acf-55e1146422b5",
        "colab": {
          "base_uri": "https://localhost:8080/"
        }
      },
      "outputs": [
        {
          "output_type": "stream",
          "name": "stdout",
          "text": [
            "Welcome in Python Language\n",
            "Welcome in Python Language\n",
            "Welcome in Python Language\n"
          ]
        }
      ],
      "source": [
        "def helloPython():\n",
        "    print( \"Welcome in Python Language\")\n",
        "\n",
        "helloPython()\n",
        "helloPython()\n",
        "helloPython()\n"
      ]
    },
    {
      "cell_type": "markdown",
      "metadata": {
        "id": "7iCfaIRvu9e5"
      },
      "source": [
        "<h1>Fungsi dengan parameter</h1>\n",
        "Sebuah fungsi dapat menerima parameter ataupun argumen yang merupakan suatu nilai/variabel yang dilemparkan ke dalam fungsi untuk diproses lebih lanjut.\n",
        "\n",
        "<h2>Sintaks</h2>\n",
        "\n",
        "```python\n",
        "def function_name(param):\n",
        "    Logic Program\n",
        "```\n",
        "Cara memanggil fungsi dengan menuliskan function_name diikuti kurung buka tutup () beserta parameter\n",
        "\n",
        "```python\n",
        "    function_name(param)\n",
        "```\n",
        "<hr>"
      ]
    },
    {
      "cell_type": "markdown",
      "metadata": {
        "id": "6QHubrjku9e6"
      },
      "source": [
        "Buatlah fungsi dengan nama \"fullName\" yang mempunyai parameter \"firstname\" dan \"lastname\" digunakan untuk mencetak \"firstname\" dan \"lastname\""
      ]
    },
    {
      "cell_type": "code",
      "execution_count": 3,
      "metadata": {
        "id": "fHrVNyUSu9e6",
        "outputId": "6cfa8c2c-a8ac-4924-c789-a76ad705fa84",
        "colab": {
          "base_uri": "https://localhost:8080/"
        }
      },
      "outputs": [
        {
          "output_type": "stream",
          "name": "stdout",
          "text": [
            "masukan nama depan anda: ai\n",
            "masukan nama belakang anda: solihah\n",
            "nama full anda adalah ai solihah\n"
          ]
        }
      ],
      "source": [
        "def fullName(firstName=input('masukan nama depan anda: '),lastName=input('masukan nama belakang anda: ')):\n",
        "    print(f\"nama full anda adalah {firstName} {lastName}\")\n",
        "\n",
        "fullName()\n"
      ]
    },
    {
      "cell_type": "markdown",
      "metadata": {
        "id": "OrqZKXFdu9e6"
      },
      "source": [
        "Parameter fungsi diperbolehkan menggunakan lebih dari 1, dimana paramater tersebut ada yang wajib harus diisi dan ada yang tidak harus diisi\n",
        "\n",
        "```python\n",
        "def function_name(param_1, param_2, param_3,....):\n",
        "    Logic Program\n",
        "```\n",
        "\n",
        "Cara memanggil fungsi dengan menuliskan function_name diikuti kurung buka tutup () beserta parameter\n",
        "\n",
        "```python\n",
        "    function_name(param_1, param_2, param_3)\n",
        "```\n",
        "<hr>\n",
        "Buatlah fungsi dengan nama maxValue yang mempunyai parameter \"val_1\",\"val_2\" dan \"val_3\" yang bertujuan untuk mencari nilai terbesar dari 3 nilai tersebut"
      ]
    },
    {
      "cell_type": "code",
      "execution_count": 4,
      "metadata": {
        "id": "hh_q9WXDu9e7",
        "outputId": "a6a775a5-953a-47ac-928e-200a493e4219",
        "colab": {
          "base_uri": "https://localhost:8080/"
        }
      },
      "outputs": [
        {
          "output_type": "stream",
          "name": "stdout",
          "text": [
            "masukan nomor pertama: 2011\n",
            "masukan nomor kedua: 2001\n",
            "masukan nomor ketiga: 200221\n",
            "angka terbesar adalah 200221\n"
          ]
        }
      ],
      "source": [
        "11\n",
        "def maxValue(vall1=input('masukan nomor pertama: '), vall2=input('masukan nomor kedua: '),vall3=input('masukan nomor ketiga: ')):\n",
        "    if vall1 and vall3 < vall2:\n",
        "        print(f'angka terbesar adalah {vall2}')\n",
        "    elif vall1 and vall2 < vall3:\n",
        "        print(f'angka terbesar adalah {vall3}')\n",
        "    else:\n",
        "        print(f'angka terbesar adalah {vall1}')\n",
        "\n",
        "maxValue()"
      ]
    },
    {
      "cell_type": "markdown",
      "metadata": {
        "id": "_jKVt0cSu9e7"
      },
      "source": [
        "Parameter opsional digunakan pada fungsi dengan cara memberikan nilai default, artinya nilai parameter sudah diberikan terlebih dahulu tanpa dipanggil\n",
        "\n",
        "```python\n",
        "def function_name(param_1, param_2, param_3 = 'Nilai'):\n",
        "    Logic Program\n",
        "```"
      ]
    },
    {
      "cell_type": "markdown",
      "metadata": {
        "id": "51Il8LzDu9e8"
      },
      "source": [
        "Buatlah fungsi \"countCircleArea\" dengan 2 parameter yaitu \"phi\" dan \"diameter\" dimana parameter phi mempunyai nilai default 3.14"
      ]
    },
    {
      "cell_type": "code",
      "execution_count": 5,
      "metadata": {
        "id": "xnNJB6dbu9e8",
        "outputId": "78ca2e5e-1831-4c50-e4a3-d287acb4c8e6",
        "colab": {
          "base_uri": "https://localhost:8080/"
        }
      },
      "outputs": [
        {
          "output_type": "stream",
          "name": "stdout",
          "text": [
            "masukan diameter lingkaran yang akan di hitung: 45\n",
            "luas lingkarannya adalah: 141.3\n"
          ]
        }
      ],
      "source": [
        "def countCircleArea (phi=3.14,diameter= float(input('masukan diameter lingkaran yang akan di hitung: '))):\n",
        "  luasLingkaran = phi*diameter\n",
        "  print(f'luas lingkarannya adalah: {luasLingkaran}')\n",
        "\n",
        "countCircleArea()\n"
      ]
    },
    {
      "cell_type": "markdown",
      "metadata": {
        "id": "ms0LREtLu9e8"
      },
      "source": [
        "Fungsi dengan 2 Parameter opsional juga dapat dilakukan pada Python. \n",
        "\n",
        "```python\n",
        "def info(suhu, daerah='Sukabumi', satuan = 'Celcius'):\n",
        "    print(f\"Suhu sekarang di {daerah} : {suhu} {satuan} \")\n",
        "```\n",
        "Adapun Cara memanggilnya\n",
        "\n",
        "```python\n",
        "    info(30)\n",
        "```"
      ]
    },
    {
      "cell_type": "code",
      "execution_count": 6,
      "metadata": {
        "id": "cULXm7GEu9e9",
        "outputId": "4895083f-7f7b-47d7-d27a-85f8a7bc1572",
        "colab": {
          "base_uri": "https://localhost:8080/"
        }
      },
      "outputs": [
        {
          "output_type": "stream",
          "name": "stdout",
          "text": [
            "Suhu sekarang di Sukabumi : 20 Celcius \n"
          ]
        }
      ],
      "source": [
        "#Cobalah fungsi tersebut pada area kode disini\n",
        "def info(suhu, daerah='Sukabumi', satuan = 'Celcius'):\n",
        "    print(f\"Suhu sekarang di {daerah} : {suhu} {satuan} \")\n",
        "\n",
        "info(20)"
      ]
    },
    {
      "cell_type": "markdown",
      "metadata": {
        "id": "jP6vSHzwu9e9"
      },
      "source": [
        "<h1>Fungsi dengan Return Value</h1>\n",
        "\n",
        "Yaitu fungsi dimana akhir dari programnya adalah nilai kembalian atau nilai balik. Artinya nilai dalam fungsi dapat ditampung lagi ke variabel lain untuk digunakan operasi lebih lanjut.\n",
        "\n",
        "Buatlah fungsi dengan return value yang digunakan untuk mengecek sebuah bilangan termasuk bilangan negatif, bilangan neteral(0) dan bilangan positif"
      ]
    },
    {
      "cell_type": "code",
      "execution_count": 7,
      "metadata": {
        "id": "cSRgaMYBu9e9",
        "outputId": "25abca0f-3fa7-4077-8fc5-5de1b6afca96",
        "colab": {
          "base_uri": "https://localhost:8080/"
        }
      },
      "outputs": [
        {
          "output_type": "stream",
          "name": "stdout",
          "text": [
            "masukan angka postive yang ingin di check: 11\n",
            "11 adalah angka positive\n",
            "masukan angka yang ingin di check: 0\n",
            "0 adalah angka nol(0)\n",
            "masukan angka negative yang ingin di check: -2\n",
            "-2 adalah angka negative\n"
          ]
        }
      ],
      "source": [
        "#check1\n",
        "def checkAngka1(N1):\n",
        "  return N1 + 0\n",
        " \n",
        "N1 = int(input('masukan angka postive yang ingin di check: '))\n",
        "hasil1 = checkAngka1(N1)\n",
        "if hasil1 >=0 :\n",
        "    print(f'{hasil1} adalah angka positive')\n",
        "\n",
        "#check2\n",
        "\n",
        "def checkAngka2(N2):\n",
        "  return N2 + 0\n",
        " \n",
        "N2 = int(input('masukan angka yang ingin di check: '))\n",
        "hasil2 = checkAngka2(N2)\n",
        "if hasil2==0:\n",
        "    print(f\"{hasil2} adalah angka nol(0)\" )\n",
        "\n",
        "\n",
        "#check3\n",
        "\n",
        "def checkAngka3(N3):\n",
        "  return N3 \n",
        " \n",
        "N3 = int(input('masukan angka negative yang ingin di check: '))\n",
        "hasil3 = checkAngka3(N3)\n",
        "if hasil3<=0:\n",
        "    print(f\"{hasil3} adalah angka negative\" )\n"
      ]
    },
    {
      "cell_type": "markdown",
      "metadata": {
        "id": "cJVkLq2Su9e-"
      },
      "source": [
        "<h3>Soal Latihan</h3>\n",
        "<ol>\n",
        "    <li>Buatlah fungsi untuk menjumlahkan total nilai dari list</li>\n",
        "    <li>Buatlah fungsi untuk mencari nilai terbesar dari sekumpulan list </li>\n",
        "    <li>Buatlah fungsi untuk menjumlahkan 2 buah list </li>\n",
        "</ol>\n"
      ]
    },
    {
      "cell_type": "code",
      "execution_count": 8,
      "metadata": {
        "id": "jB-iX6Wgu9e-",
        "outputId": "278fd3fb-ea3c-499e-e10e-2d2fe675a88b",
        "colab": {
          "base_uri": "https://localhost:8080/"
        }
      },
      "outputs": [
        {
          "output_type": "stream",
          "name": "stdout",
          "text": [
            "370 adalah total jumlah dari list\n"
          ]
        }
      ],
      "source": [
        "#Soal 1\n",
        "def hitungJumlah1(list = [33, 337]):\n",
        "    totalJumlah1=list[0]+list[1]\n",
        "    print(f'{totalJumlah1} adalah total jumlah dari list')\n",
        "\n",
        "hitungJumlah1()"
      ]
    },
    {
      "cell_type": "code",
      "execution_count": 10,
      "metadata": {
        "id": "m7vS5vKvu9e-",
        "outputId": "534e5b33-e8cc-41f0-c753-6089e238d447",
        "colab": {
          "base_uri": "https://localhost:8080/"
        }
      },
      "outputs": [
        {
          "output_type": "stream",
          "name": "stdout",
          "text": [
            "625 adalah angka terbesar dalam list\n"
          ]
        }
      ],
      "source": [
        "#Soal 2\n",
        "def checkJumlah(listangka):\n",
        "    print(f'{max(listangka)} adalah angka terbesar dalam list')\n",
        "\n",
        "checkJumlah(listangka = [12, 625, 44, 7])"
      ]
    },
    {
      "cell_type": "code",
      "execution_count": 11,
      "metadata": {
        "id": "9vLJCFRWu9e-",
        "outputId": "8b12fcf5-4918-43d9-e8bc-8d40d282e30b",
        "colab": {
          "base_uri": "https://localhost:8080/"
        }
      },
      "outputs": [
        {
          "output_type": "stream",
          "name": "stdout",
          "text": [
            "636 adalah total jumlah dari list\n"
          ]
        }
      ],
      "source": [
        "#Soal 3\n",
        "def hitungJumlah(list1 = [67, 436],list2= [46,87]):\n",
        "    totalJumlah=list1[0]+list1[1]+list2[0]+list2[1]\n",
        "    print(f'{totalJumlah} adalah total jumlah dari list')\n",
        "\n",
        "hitungJumlah()"
      ]
    }
  ],
  "metadata": {
    "kernelspec": {
      "display_name": "Python 3",
      "language": "python",
      "name": "python3"
    },
    "language_info": {
      "codemirror_mode": {
        "name": "ipython",
        "version": 3
      },
      "file_extension": ".py",
      "mimetype": "text/x-python",
      "name": "python",
      "nbconvert_exporter": "python",
      "pygments_lexer": "ipython3",
      "version": "3.8.5"
    },
    "colab": {
      "provenance": []
    }
  },
  "nbformat": 4,
  "nbformat_minor": 0
}
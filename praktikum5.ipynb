{
  "nbformat": 4,
  "nbformat_minor": 0,
  "metadata": {
    "colab": {
      "provenance": []
    },
    "kernelspec": {
      "name": "python3",
      "display_name": "Python 3"
    },
    "language_info": {
      "name": "python"
    }
  },
  "cells": [
    {
      "cell_type": "markdown",
      "source": [
        "Latihan 1"
      ],
      "metadata": {
        "id": "9DcHGCzeSeTz"
      }
    },
    {
      "cell_type": "markdown",
      "source": [
        "NO.1"
      ],
      "metadata": {
        "id": "l7GlL16VSlSA"
      }
    },
    {
      "cell_type": "code",
      "execution_count": 1,
      "metadata": {
        "id": "YUCEO8_ZSY-i",
        "colab": {
          "base_uri": "https://localhost:8080/"
        },
        "outputId": "83451dd2-cdd1-4003-81cf-254e8a017f86"
      },
      "outputs": [
        {
          "output_type": "stream",
          "name": "stdout",
          "text": [
            "manakah hobimu?\n",
            "a. membaca\n",
            "b. mendengarkan musik\n",
            "c. bermain game\n",
            "\n",
            "Hobi kamu apa? :a\n",
            "Hobi kamu adalah Membaca\n"
          ]
        }
      ],
      "source": [
        "print('''manakah hobimu?\n",
        "a. membaca\n",
        "b. mendengarkan musik\n",
        "c. bermain game\n",
        "''')\n",
        "hobi = input('Hobi kamu apa? :')\n",
        "if hobi =='a' or hobi == 'A':\n",
        "  print(\"Hobi kamu adalah Membaca\")\n",
        "elif hobi=='b'or hobi =='B':\n",
        "  print(\"Hobi kamu adalah Mendengarkan musik\")\n",
        "elif hobi=='c'or hobi =='C':\n",
        "  print(\"Hobi kamu adalah bermain game\")\n",
        "else:\n",
        "  print(f\"Hobi kamu adalah {hobi}\")\n",
        "\n"
      ]
    },
    {
      "cell_type": "markdown",
      "source": [
        "NO. 2"
      ],
      "metadata": {
        "id": "Ie3J7UAISnee"
      }
    },
    {
      "cell_type": "code",
      "source": [
        "nama = input('Siapa nama kamu :')\n",
        "print(f\"Nama kamu berawalan huruf {nama[0]}\")"
      ],
      "metadata": {
        "id": "OL7l-CldSrzB",
        "colab": {
          "base_uri": "https://localhost:8080/"
        },
        "outputId": "d64c8ec0-46a1-4d63-f5da-8acb9d585078"
      },
      "execution_count": 2,
      "outputs": [
        {
          "output_type": "stream",
          "name": "stdout",
          "text": [
            "Siapa nama kamu :Ai Solihah\n",
            "Nama kamu berawalan huruf A\n"
          ]
        }
      ]
    },
    {
      "cell_type": "markdown",
      "source": [
        "Latihan 2"
      ],
      "metadata": {
        "id": "hMDNPZCmS-4E"
      }
    },
    {
      "cell_type": "code",
      "source": [
        "from random import randint\n",
        "angka_1 = randint(0,100)\n",
        "angka_2 = randint(0,100)\n",
        "\n",
        "hasil = int(input(f\"Berapakah hasil perkalian {angka_1} dan {angka_2} : \"))\n",
        "print(f\"Jawaban anda {hasil==angka_1 * angka_2}\")"
      ],
      "metadata": {
        "colab": {
          "base_uri": "https://localhost:8080/"
        },
        "id": "H5LIklCNTDJO",
        "outputId": "09850a56-f028-4e48-8e55-17ddf5afa038"
      },
      "execution_count": 3,
      "outputs": [
        {
          "output_type": "stream",
          "name": "stdout",
          "text": [
            "Berapakah hasil perkalian 21 dan 8 : 168\n",
            "Jawaban anda True\n"
          ]
        }
      ]
    },
    {
      "cell_type": "markdown",
      "source": [
        "Latihan 3"
      ],
      "metadata": {
        "id": "3zk5OuYVTnaC"
      }
    },
    {
      "cell_type": "code",
      "source": [
        "hhe=input('coba ketik: Belajar Pemrograman Python')\n",
        "if hhe =='Belajar Pemrograman Python'or hhe=='belajar pemrograman python'or hhe=='BELAJAR PEMROGRAMAN PYTHON':\n",
        "  print('''Belajar\n",
        "1. ajar\n",
        "2. Pemrograman\n",
        "3. gram\n",
        "4. Python\n",
        "5. Py\n",
        "6. gram Python\n",
        "7. Pemrograman Python''')"
      ],
      "metadata": {
        "colab": {
          "base_uri": "https://localhost:8080/"
        },
        "id": "vd0VRu7-Tu0B",
        "outputId": "276cd915-843b-4ae8-bd1b-a074380cab30"
      },
      "execution_count": null,
      "outputs": [
        {
          "output_type": "stream",
          "name": "stdout",
          "text": [
            "coba ketik: Belajar Pemrograman Pythonbelajar pemrograman python\n",
            "Belajar\n",
            "1. ajar\n",
            "2. Pemrograman\n",
            "3. gram\n",
            "4. Python\n",
            "5. Py\n",
            "6. gram Python\n",
            "7. Pemrograman Python\n"
          ]
        }
      ]
    },
    {
      "cell_type": "markdown",
      "source": [
        "Latihan 4"
      ],
      "metadata": {
        "id": "po5WVhdoVHji"
      }
    },
    {
      "cell_type": "code",
      "source": [
        "email=input('masukan email: ')\n",
        "if '@gmail.com' in email:\n",
        "  print (f'''email yang anda gunakan adalah {email} dapat di gunakan\n",
        "  {email} -> True''')\n",
        "else:\n",
        "  print (f'''email yang anda gunakan adalah {email} tidak dapat di gunakan\n",
        "  {email} -> false''')"
      ],
      "metadata": {
        "colab": {
          "base_uri": "https://localhost:8080/"
        },
        "id": "8XIY_OgrVJ0o",
        "outputId": "da366350-9277-4cb2-b384-d10d1a9136a9"
      },
      "execution_count": 4,
      "outputs": [
        {
          "output_type": "stream",
          "name": "stdout",
          "text": [
            "masukan email: AS@gmail.com\n",
            "email yang anda gunakan adalah AS@gmail.com dapat di gunakan\n",
            "  AS@gmail.com -> True\n"
          ]
        }
      ]
    }
  ]
}